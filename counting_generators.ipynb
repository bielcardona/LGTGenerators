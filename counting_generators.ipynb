{
 "cells": [
  {
   "cell_type": "code",
   "execution_count": null,
   "metadata": {},
   "outputs": [],
   "source": [
    "from phylonetwork import PhyloNetwork, PhyloTree, LGTPhyloNetwork\n",
    "import phylonetwork\n",
    "import random\n",
    "from numpy import matrix\n",
    "from collections import Counter, deque\n",
    "import os,glob\n",
    "import re\n",
    "import itertools\n",
    "import networkx as nx\n",
    "import copy"
   ]
  },
  {
   "cell_type": "code",
   "execution_count": null,
   "metadata": {},
   "outputs": [],
   "source": [
    "# path where I have the level-k generators\n",
    "filename = './Lev5Gen.txt'"
   ]
  },
  {
   "cell_type": "code",
   "execution_count": null,
   "metadata": {},
   "outputs": [],
   "source": [
    "# read and save the generators in lists for each level\n",
    "g=[]\n",
    "conti=True \n",
    "i=0\n",
    "#f.close()\n",
    "f=open(filename,\"r\")\n",
    "reads=f.readlines()\n",
    "f.close()\n",
    "while conti==True:\n",
    "    if reads[i].find(\"Beginning\")!=-1:\n",
    "        g.append('CHANGE LEVEL')\n",
    "    if reads[i].find(\"{\")!=-1:\n",
    "        g.append('NEW')\n",
    "        j=i+1\n",
    "        while reads[j].find(\"}\")==-1:\n",
    "            g.append(reads[j])\n",
    "            j+=1\n",
    "        i=j\n",
    "    if reads[i].find(\"End of level-5\")!=-1:\n",
    "        conti=False \n",
    "    i+=1\n",
    "\n",
    "def obtain_arc(s):\n",
    "    nodes=re.findall(r'\\d+', s)\n",
    "    return(int(nodes[0]),int(nodes[1]))\n",
    "\n",
    "GENS = {}\n",
    "for i in range(1,6):\n",
    "    GENS[i] = []\n",
    "edges=[]\n",
    "level=0\n",
    "i=0\n",
    "while i<len(g):\n",
    "    if g[i].find(\"CHANGE LEVEL\")!=-1:\n",
    "        level+=1\n",
    "    elif g[i].find(\"NEW\")!=-1:\n",
    "        graph = nx.MultiDiGraph()\n",
    "        #graph=PhyloNetwork()\n",
    "    else:\n",
    "        edges.append(obtain_arc(g[i]))\n",
    "        if (i+1==len(g)) or (g[i+1].find(\"NEW\")!=-1) or (g[i+1].find(\"CHANGE LEVEL\")!=-1):\n",
    "            graph.add_edges_from(edges) \n",
    "            edges=[]\n",
    "            GENS[level].append(graph)\n",
    "            \n",
    "    i+=1"
   ]
  },
  {
   "cell_type": "code",
   "execution_count": null,
   "metadata": {},
   "outputs": [],
   "source": [
    "def taggings1(generator):\n",
    "    \"\"\"\n",
    "    First step: for each level-k generator, and for each of its hybrid nodes, tag\n",
    "    exactly one of the incoming arcs with 'SEC', meaning that they will be secondary arcs.\n",
    "    \"\"\"\n",
    "    hybrid_nodes = [u for u in generator.nodes() if generator.in_degree(u) == 2]\n",
    "    ll = []\n",
    "    for h in hybrid_nodes:\n",
    "        ll.append(generator.in_edges(h, keys = True))\n",
    "    for choice in itertools.product(*ll):\n",
    "        new_graph = generator.copy()\n",
    "        for edge in choice:\n",
    "            new_graph[edge[0]][edge[1]][edge[2]]['tag'] = 'SEC'\n",
    "        yield new_graph\n",
    "    return"
   ]
  },
  {
   "cell_type": "code",
   "execution_count": null,
   "metadata": {},
   "outputs": [],
   "source": [
    "def taggings2(generator):\n",
    "    \"\"\"\n",
    "    Second step: for each of the networks generated in the first step, find all nodes having two\n",
    "    outgoing arcs tagged with 'SEC' and change exactly one of them into 'MIX', meaning that\n",
    "    this arc will be split into a principal arc followed by a secondary arc.\n",
    "    \"\"\"\n",
    "    for generator1 in taggings1(generator):\n",
    "        hybrid_nodes = [u for u in generator.nodes() if generator.in_degree(u) == 2]\n",
    "        for h in hybrid_nodes:\n",
    "            for edge in generator1.out_edges(h, keys=True, data=True):\n",
    "                if edge[-1].get('tag') == 'SEC':\n",
    "                    generator1[edge[0]][edge[1]][edge[2]]['tag'] = 'MIX'\n",
    "        tree_nodes = [u for u in generator1.nodes() if generator1.out_degree(u) == 2]\n",
    "        ll = []\n",
    "        for t in tree_nodes:\n",
    "            outgoing = generator1.out_edges(t, keys=True, data=True)\n",
    "            if outgoing[0][-1].get('tag') == 'SEC' and outgoing[1][-1].get('tag') == 'SEC':\n",
    "                ll.append(outgoing)\n",
    "        for choice in itertools.product(*ll):\n",
    "            new_graph = generator1.copy()\n",
    "            for edge in choice:\n",
    "                new_graph[edge[0]][edge[1]][edge[2]]['tag'] = 'MIX'\n",
    "            yield new_graph"
   ]
  },
  {
   "cell_type": "code",
   "execution_count": null,
   "metadata": {},
   "outputs": [],
   "source": [
    "em = nx.isomorphism.categorical_multiedge_match('tag','')\n",
    "def taggings_up_to_isomorphism(generator):\n",
    "    \"\"\"\n",
    "    Third step: Find all possible taggings for a generator and filter out repetitions\n",
    "    due to isomorphism of edge-tagged graphs\n",
    "    \"\"\"\n",
    "    all_taggings = list(taggings2(generator))\n",
    "    uniques = []\n",
    "    for g in all_taggings:\n",
    "        for h in uniques:\n",
    "            if nx.is_isomorphic(g,h, edge_match = em):\n",
    "                break\n",
    "        else:\n",
    "            uniques.append(g)\n",
    "    return uniques"
   ]
  },
  {
   "cell_type": "code",
   "execution_count": null,
   "metadata": {},
   "outputs": [],
   "source": [
    "# Compute all LGT-generators\n",
    "LGTGENS = {}\n",
    "for i in range(1,6):\n",
    "    LGTGENS[i] = []\n",
    "    for generator in GENS[i]:\n",
    "        LGTGENS[i].extend(taggings_up_to_isomorphism(generator))\n",
    "    print(f'Level {i}: {len(LGTGENS[i])} generators')"
   ]
  },
  {
   "cell_type": "code",
   "execution_count": null,
   "metadata": {},
   "outputs": [],
   "source": []
  }
 ],
 "metadata": {
  "kernelspec": {
   "display_name": "Python 3",
   "language": "python",
   "name": "python3"
  },
  "language_info": {
   "codemirror_mode": {
    "name": "ipython",
    "version": 3
   },
   "file_extension": ".py",
   "mimetype": "text/x-python",
   "name": "python",
   "nbconvert_exporter": "python",
   "pygments_lexer": "ipython3",
   "version": "3.6.5"
  }
 },
 "nbformat": 4,
 "nbformat_minor": 2
}
