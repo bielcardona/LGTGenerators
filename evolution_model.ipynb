{
 "cells": [
  {
   "cell_type": "code",
   "execution_count": 22,
   "metadata": {},
   "outputs": [],
   "source": [
    "import matplotlib\n",
    "%matplotlib inline\n",
    "## from phylonetwork import PhyloNetwork\n",
    "import networkx as nx\n",
    "import phylonetwork\n",
    "import pylab as plt\n",
    "import random,numpy\n",
    "import itertools\n",
    "from networkx.drawing.nx_agraph import graphviz_layout"
   ]
  },
  {
   "cell_type": "code",
   "execution_count": 4,
   "metadata": {},
   "outputs": [],
   "source": [
    "import warnings\n",
    "import matplotlib.cbook\n",
    "warnings.filterwarnings(\"ignore\",category=matplotlib.cbook.mplDeprecation)"
   ]
  },
  {
   "cell_type": "code",
   "execution_count": 5,
   "metadata": {},
   "outputs": [],
   "source": [
    "def last_node(net):\n",
    "    return max(net.nodes())"
   ]
  },
  {
   "cell_type": "code",
   "execution_count": 6,
   "metadata": {},
   "outputs": [],
   "source": [
    "def speciate(net,leaf):\n",
    "    l = last_node(net)\n",
    "    net.add_edge(leaf,l+1)\n",
    "    net.add_edge(leaf,l+2)"
   ]
  },
  {
   "cell_type": "code",
   "execution_count": 7,
   "metadata": {},
   "outputs": [],
   "source": [
    "def lgt(net,leaf1,leaf2):\n",
    "    net.add_edge(leaf1,leaf2,secondary=True)\n",
    "    l = last_node(net)\n",
    "    net.add_edge(leaf1,l+1)\n",
    "    net.add_edge(leaf2,l+2)"
   ]
  },
  {
   "cell_type": "code",
   "execution_count": 8,
   "metadata": {},
   "outputs": [],
   "source": [
    "def draw(net):\n",
    "    positions = nx.drawing.nx_agraph.graphviz_layout(net, prog=\"dot\")\n",
    "    # nx.draw(net, pos=graphviz_layout(net),prog='dot',args=\"-Grankdir=LR\", with_labels=True)\n",
    "    nx.draw(net,positions,with_labels=True)\n",
    "    plt.show()"
   ]
  },
  {
   "cell_type": "code",
   "execution_count": 9,
   "metadata": {},
   "outputs": [],
   "source": [
    "def leaves(net):\n",
    "    return [u for u in net.nodes() if net.out_degree(u)==0]"
   ]
  },
  {
   "cell_type": "code",
   "execution_count": 10,
   "metadata": {},
   "outputs": [],
   "source": [
    "def non_trivial_blobs(net):\n",
    "    blobs = list(nx.biconnected_components(nx.Graph(net)))\n",
    "    return [bl for bl in blobs if len(bl) > 2]"
   ]
  },
  {
   "cell_type": "code",
   "execution_count": 11,
   "metadata": {},
   "outputs": [],
   "source": [
    "def internal_blobs(net):\n",
    "    internal_nodes = set([u for u in net.nodes() if net.out_degree(u)>0])\n",
    "    blobs = list(nx.biconnected_components(nx.Graph(net)))\n",
    "    blobs = [bl for bl in blobs if len(bl) > 2]\n",
    "    nodes_in_blobs = set().union(*blobs)\n",
    "    nodes_not_in_blobs = internal_nodes - nodes_in_blobs\n",
    "    blobs.extend([set([u]) for u in nodes_not_in_blobs])\n",
    "    return blobs"
   ]
  },
  {
   "cell_type": "code",
   "execution_count": 12,
   "metadata": {},
   "outputs": [],
   "source": [
    "def compute_hash(net):\n",
    "    mapping_blobs = {}\n",
    "    blobs = internal_blobs(net)\n",
    "    for blob in blobs:\n",
    "        for node in blob:\n",
    "            mapping_blobs[node] = blob\n",
    "    \n",
    "    mapping = {}\n",
    "    for l in leaves(net):\n",
    "        parent = net.predecessors(l)[0]\n",
    "        mapping[l] = mapping_blobs[parent]\n",
    "    return mapping"
   ]
  },
  {
   "cell_type": "code",
   "execution_count": 13,
   "metadata": {},
   "outputs": [],
   "source": [
    "def internal_and_external_pairs(net):\n",
    "    lvs = leaves(net)\n",
    "    pairs = [(l1,l2) for l1 in lvs for l2 in lvs if l1 != l2]\n",
    "    mapping = compute_hash(net)\n",
    "    internal_pairs = []\n",
    "    external_pairs = []\n",
    "    for pair in pairs:\n",
    "        if mapping[pair[0]] == mapping[pair[1]]:\n",
    "            internal_pairs.append(pair)\n",
    "        else:\n",
    "            external_pairs.append(pair)\n",
    "    return internal_pairs, external_pairs"
   ]
  },
  {
   "cell_type": "code",
   "execution_count": 93,
   "metadata": {
    "collapsed": true
   },
   "outputs": [],
   "source": [
    "def random_leaf(net):\n",
    "    return random.choice(leaves(net))"
   ]
  },
  {
   "cell_type": "code",
   "execution_count": 14,
   "metadata": {},
   "outputs": [],
   "source": [
    "def random_pair(net,wint,wext):\n",
    "    int_pairs, ext_pairs = internal_and_external_pairs(net)\n",
    "    return random.choices(int_pairs+ext_pairs, weights=[wint]*len(int_pairs)+[wext]*len(ext_pairs))[0]"
   ]
  },
  {
   "cell_type": "code",
   "execution_count": 18,
   "metadata": {},
   "outputs": [],
   "source": [
    "def simulation(num_steps,prob_lgt,wint,wext):\n",
    "    net = nx.DiGraph()\n",
    "    net.add_edge(1,2)\n",
    "    net.add_edge(1,3)\n",
    "    for i in range(num_steps):\n",
    "        event = random.choices(['spec','lgt'],[1-prob_lgt, prob_lgt])[0]\n",
    "        #event = numpy.random.choice(['spec','lgt'],p=[1-prob_lgt, prob_lgt])\n",
    "        if event == 'spec':\n",
    "            l = random.choice(leaves(net))\n",
    "            speciate(net,l)\n",
    "        else:\n",
    "            pair = random_pair(net,wint,wext)\n",
    "            lgt(net,pair[0],pair[1])\n",
    "    return net"
   ]
  },
  {
   "cell_type": "code",
   "execution_count": 19,
   "metadata": {},
   "outputs": [],
   "source": [
    "netf=simulation(50,0.6,30,5)"
   ]
  },
  {
   "cell_type": "code",
   "execution_count": 20,
   "metadata": {},
   "outputs": [],
   "source": [
    "def reticulations(G):\n",
    "    return [v for v in G.nodes() if G.in_degree(v)==2]\n",
    "def local_level(G,bicc):\n",
    "    rets=list(set(reticulations(G)).intersection(bicc)) # reticulations present in the blob\n",
    "    if len(rets)==0:\n",
    "        return 0\n",
    "    else:\n",
    "        bicc_edges=[e for e in G.edges() if ((e[0] in bicc)&(e[1]in bicc))]\n",
    "        end_nodes=[e[1] for e in bicc_edges]\n",
    "        return len([ret for ret in rets if ret in end_nodes]) "
   ]
  },
  {
   "cell_type": "code",
   "execution_count": 38,
   "metadata": {},
   "outputs": [],
   "source": [
    "number_of_experiments = 500\n",
    "values_of_n = [30,50]\n",
    "values_of_alpha = [0.1, 0.3]\n",
    "values_of_beta = [0.01,0.02,0.05,0.1,0.2,1,5,10,20,50,100]\n",
    "stats_level = {}\n",
    "stats_numblobs = {}\n",
    "\n",
    "for (n, alpha, beta) in itertools.product(values_of_n, values_of_alpha, values_of_beta):\n",
    "    levels = []\n",
    "    numblobs = []\n",
    "    for _ in range(number_of_experiments):\n",
    "        resG = simulation(n, alpha, 1, beta)\n",
    "        bic_comp=list(nx.biconnected_components(nx.Graph(resG)))\n",
    "        rets_x_bicc=[local_level(resG,b) for b in bic_comp]\n",
    "        level=max(rets_x_bicc)\n",
    "        levels.append(level)\n",
    "        sparse=[1 for x in rets_x_bicc if x!=0]\n",
    "        numblobs.append(sum(sparse))\n",
    "    stats_level[(n, alpha, beta)] = float(sum(levels))/len(levels)\n",
    "    stats_numblobs[(n, alpha, beta)] = float(sum(numblobs))/len(numblobs)"
   ]
  },
  {
   "cell_type": "code",
   "execution_count": 58,
   "metadata": {},
   "outputs": [
    {
     "data": {
      "image/png": "[encoded data removed]",
      "text/plain": [
       "<Figure size 432x288 with 1 Axes>"
      ]
     },
     "metadata": {},
     "output_type": "display_data"
    }
   ],
   "source": [
    "f = plt.figure()\n",
    "x_positions=range(len(values_of_beta))\n",
    "x_axis = values_of_beta\n",
    "symbols = \"ox*+\"\n",
    "i = 0\n",
    "dibs = [None]*4\n",
    "legends = [None]*4\n",
    "for n in values_of_n:\n",
    "    for alpha in values_of_alpha:\n",
    "        to_plot = [stats_numblobs[(n, alpha, beta)] for beta in values_of_beta]\n",
    "        dibs[i]=plt.scatter(x_positions, to_plot, marker = symbols[i], c='black')\n",
    "        legends[i] = \"n=%d, alpha=%0.1f\" % (n, alpha)\n",
    "        i += 1\n",
    "plt.xticks(x_positions, x_axis)\n",
    "plt.legend(dibs, legends)\n",
    "plt.xlabel('beta')\n",
    "plt.ylabel('avg number of nontrivial blobs')\n",
    "plt.show()\n",
    "f.savefig(\"fig1.pdf\", bbox_inches='tight')"
   ]
  },
  {
   "cell_type": "code",
   "execution_count": 59,
   "metadata": {},
   "outputs": [
    {
     "data": {
      "image/png": "[encoded data removed]",
      "text/plain": [
       "<Figure size 432x288 with 1 Axes>"
      ]
     },
     "metadata": {},
     "output_type": "display_data"
    }
   ],
   "source": [
    "f = plt.figure()\n",
    "x_positions=range(len(values_of_beta))\n",
    "x_axis = values_of_beta\n",
    "symbols = \"ox*+\"\n",
    "i = 0\n",
    "dibs = [None]*4\n",
    "legends = [None]*4\n",
    "for n in values_of_n:\n",
    "    for alpha in values_of_alpha:\n",
    "        to_plot = [stats_level[(n, alpha, beta)] for beta in values_of_beta]\n",
    "        dibs[i]=plt.scatter(x_positions, to_plot, marker = symbols[i], c='black')\n",
    "        legends[i] = \"n=%d, alpha=%0.1f\" % (n, alpha)\n",
    "        i += 1\n",
    "plt.xticks(x_positions, x_axis)\n",
    "plt.legend(dibs, legends)\n",
    "plt.xlabel('beta')\n",
    "plt.ylabel('avg level')\n",
    "plt.show()\n",
    "f.savefig(\"fig2.pdf\", bbox_inches='tight')"
   ]
  },
  {
   "cell_type": "code",
   "execution_count": 43,
   "metadata": {},
   "outputs": [],
   "source": [
    "number_of_experiments2 = 50\n",
    "values_of_n2 = [10,20,30]\n",
    "values_of_alpha2 = [0,0.1,0.2,0.3,0.4]\n",
    "values_of_beta2 = [0.01, 1, 10]\n",
    "stats_level2 = {}\n",
    "stats_numblobs2 = {}\n",
    "\n",
    "for (n, alpha, beta) in itertools.product(values_of_n2, values_of_alpha2, values_of_beta2):\n",
    "    levels = []\n",
    "    numblobs = []\n",
    "    for _ in range(number_of_experiments):\n",
    "        resG = simulation(n, alpha, 1, beta)\n",
    "        bic_comp=list(nx.biconnected_components(nx.Graph(resG)))\n",
    "        rets_x_bicc=[local_level(resG,b) for b in bic_comp]\n",
    "        level=max(rets_x_bicc)\n",
    "        levels.append(level)\n",
    "        sparse=[1 for x in rets_x_bicc if x!=0]\n",
    "        numblobs.append(sum(sparse))\n",
    "    stats_level2[(n, alpha, beta)] = float(sum(levels))/len(levels)\n",
    "    stats_numblobs2[(n, alpha, beta)] = float(sum(numblobs))/len(numblobs)"
   ]
  },
  {
   "cell_type": "code",
   "execution_count": 60,
   "metadata": {},
   "outputs": [
    {
     "data": {
      "image/png": "[encoded data removed]",
      "text/plain": [
       "<Figure size 432x288 with 1 Axes>"
      ]
     },
     "metadata": {},
     "output_type": "display_data"
    }
   ],
   "source": [
    "f = plt.figure()\n",
    "x_positions=range(len(values_of_alpha2))\n",
    "x_axis = values_of_alpha2\n",
    "symbols = \"ox*+\"\n",
    "i = 0\n",
    "dibs = [None]*3\n",
    "legends = [None]*3\n",
    "for n in values_of_n2:\n",
    "    for beta in [1]:\n",
    "        to_plot = [stats_level2[(n, alpha, beta)] for alpha in values_of_alpha2]\n",
    "        dibs[i]=plt.scatter(x_positions, to_plot, marker = symbols[i], c='black')\n",
    "        legends[i] = \"n=%d, beta=%0.1f\" % (n, beta)\n",
    "        i += 1\n",
    "plt.xticks(x_positions, x_axis)\n",
    "plt.legend(dibs, legends)\n",
    "plt.xlabel('beta')\n",
    "plt.ylabel('avg number of reticulations')\n",
    "plt.show()\n",
    "f.savefig(\"fig3.pdf\", bbox_inches='tight')"
   ]
  },
  {
   "cell_type": "code",
   "execution_count": 61,
   "metadata": {},
   "outputs": [
    {
     "data": {
      "image/png": "[encoded data removed]",
      "text/plain": [
       "<Figure size 432x288 with 1 Axes>"
      ]
     },
     "metadata": {},
     "output_type": "display_data"
    }
   ],
   "source": [
    "f = plt.figure()\n",
    "x_positions=range(len(values_of_alpha2))\n",
    "x_axis = values_of_alpha2\n",
    "symbols = \"ox*+\"\n",
    "i = 0\n",
    "dibs = [None]*4\n",
    "legends = [None]*4\n",
    "for n in [10,30]:\n",
    "    for beta in [0.01,10]:\n",
    "        to_plot = [stats_level2[(n, alpha, beta)] for alpha in values_of_alpha2]\n",
    "        dibs[i]=plt.scatter(x_positions, to_plot, marker = symbols[i], c='black')\n",
    "        legends[i] = \"n=%d, beta=%0.2f\" % (n, beta)\n",
    "        i += 1\n",
    "plt.xticks(x_positions, x_axis)\n",
    "plt.legend(dibs, legends)\n",
    "plt.xlabel('beta')\n",
    "plt.ylabel('avg level')\n",
    "plt.show()\n",
    "f.savefig(\"fig4.pdf\", bbox_inches='tight')"
   ]
  },
  {
   "cell_type": "code",
   "execution_count": null,
   "metadata": {},
   "outputs": [],
   "source": []
  }
 ],
 "metadata": {
  "kernelspec": {
   "display_name": "PhyloNetworks_dev",
   "language": "python",
   "name": "phylonetworks_dev"
  },
  "language_info": {
   "codemirror_mode": {
    "name": "ipython",
    "version": 3
   },
   "file_extension": ".py",
   "mimetype": "text/x-python",
   "name": "python",
   "nbconvert_exporter": "python",
   "pygments_lexer": "ipython3",
   "version": "3.6.5"
  }
 },
 "nbformat": 4,
 "nbformat_minor": 1
}
